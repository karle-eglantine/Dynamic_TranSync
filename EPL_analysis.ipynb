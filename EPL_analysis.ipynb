{
 "cells": [
  {
   "cell_type": "code",
   "execution_count": null,
   "metadata": {},
   "outputs": [],
   "source": [
    "import os\n",
    "import random\n",
    "import matplotlib\n",
    "import numpy as np\n",
    "import pandas as pd\n",
    "import matplotlib.pyplot as plt\n",
    "import scipy\n",
    "import pickle\n",
    "\n",
    "from datetime import datetime\n",
    "from itertools import combinations\n",
    "\n",
    "import sys\n",
    "sys.path.append('modules')\n",
    "\n",
    "import epl_module as epl"
   ]
  },
  {
   "cell_type": "code",
   "execution_count": null,
   "metadata": {},
   "outputs": [],
   "source": [
    "dir_path = 'epl_data/'"
   ]
  },
  {
   "cell_type": "code",
   "execution_count": null,
   "metadata": {},
   "outputs": [],
   "source": [
    "plt.rcParams.update({'font.size': 16})"
   ]
  },
  {
   "cell_type": "markdown",
   "metadata": {},
   "source": [
    "# Load the data"
   ]
  },
  {
   "cell_type": "code",
   "execution_count": null,
   "metadata": {},
   "outputs": [],
   "source": [
    "# Create one dataset with all the results from seasons between 2000 and 2017\n",
    "all_seasons = np.arange(2000,2018)\n",
    "for s in all_seasons[1:]:\n",
    "    df = pd.read_csv(dir_path+str(s)+'.csv', sep=';',index_col=0)\n",
    "    df['Season'] = s\n",
    "    df = df.loc[:,['Season','MW','HomeTeam','AwayTeam','FTHG','FTAG']]\n",
    "    df = df.rename(columns={'MW':'Week'})\n",
    "    data = pd.concat([data, df],ignore_index = True,sort = False)"
   ]
  },
  {
   "cell_type": "code",
   "execution_count": null,
   "metadata": {},
   "outputs": [],
   "source": [
    "# Compute score differences\n",
    "data['Score'] = data.FTHG-data.FTAG\n",
    "data"
   ]
  },
  {
   "cell_type": "code",
   "execution_count": null,
   "metadata": {},
   "outputs": [],
   "source": [
    "# Get names of all teams that played in EPL between 2000 and 2017\n",
    "teams = np.union1d(data.HomeTeam.unique().astype(str),data.AwayTeam.unique().astype(str))\n",
    "N = len(teams)"
   ]
  },
  {
   "cell_type": "code",
   "execution_count": null,
   "metadata": {},
   "outputs": [],
   "source": [
    "def get_single_round_matrix(data,teams):\n",
    "    \"\"\"\n",
    "    Gets the pairwise numpy array of win/loss across teams for a single\n",
    "       week in a season. pwise_diff[i,j] = score[i] - score[j] at this week.\n",
    "    \"\"\"\n",
    "    \n",
    "    # Matrix of data Y\n",
    "    Y = pd.DataFrame(index=teams,columns=teams)\n",
    "    Y.fillna(0,inplace=True)\n",
    "    for i in data.HomeTeam:\n",
    "        for j in data.AwayTeam:\n",
    "            s = data.Score.loc[(data.HomeTeam==i) & (data.AwayTeam ==j)].values\n",
    "            if s.size >0:\n",
    "                Y.loc[[i],[j]] += s\n",
    "                Y.loc[[j],[i]] -= s\n",
    "    \n",
    "    # Adjacency matrix A\n",
    "    A = pd.DataFrame(index=teams,columns=teams)\n",
    "    A.fillna(0,inplace=True)\n",
    "    for i in data.HomeTeam:\n",
    "        for j in data.AwayTeam:\n",
    "            s = data.Score.loc[(data.HomeTeam==i) & (data.AwayTeam ==j)].values\n",
    "            if s.size >0:\n",
    "                A.loc[[i],[j]] = 1\n",
    "                A.loc[[i],[j]] = 1\n",
    "    \n",
    "    return Y,A"
   ]
  },
  {
   "cell_type": "markdown",
   "metadata": {},
   "source": [
    "There are no subsets of succesive seasons that form a connected graph.\n",
    "Hence we will merge data manually by group of 2-3 seasons in order to denoise the observations "
   ]
  },
  {
   "cell_type": "markdown",
   "metadata": {},
   "source": [
    "# Merge manually (run only the first time to create data files)"
   ]
  },
  {
   "cell_type": "code",
   "execution_count": null,
   "metadata": {},
   "outputs": [],
   "source": [
    "merged_seasons = np.array_split(all_seasons,9)\n",
    "merged_seasons"
   ]
  },
  {
   "cell_type": "code",
   "execution_count": null,
   "metadata": {},
   "outputs": [],
   "source": [
    "# Execute the first time, otherwise, results are saved in Y_merged.txt,A_merged.txt files\n",
    "N = len(teams)\n",
    "T = len(merged_seasons)\n",
    "A = np.zeros((T,N,N))\n",
    "Y = np.zeros((T,N,N))\n",
    "\n",
    "for i,d in enumerate(merged_seasons):\n",
    "    l_y = []\n",
    "    l_a = []\n",
    "    for s in d:\n",
    "        df = data.loc[data.Season == s]\n",
    "        for j in df.Week.unique():\n",
    "            df2 = df.loc[df.Week == j]\n",
    "            y,a = get_single_round_matrix(df2,teams)\n",
    "            l_y.append(y.to_numpy())\n",
    "            l_a.append(a.to_numpy())\n",
    "    Y[i,:,:] = np.mean(l_y,axis=0)\n",
    "    A[i,:,:] = np.mean(l_a,axis=0)\n"
   ]
  },
  {
   "cell_type": "code",
   "execution_count": null,
   "metadata": {},
   "outputs": [],
   "source": [
    "# Save data\n",
    "import pickle\n",
    "with open('epl_data/Y_merged.txt','wb') as y:\n",
    "    pickle.dump(Y,y)\n",
    "with open('epl_data/A_merged.txt','wb') as a:\n",
    "    pickle.dump(A,a)"
   ]
  },
  {
   "cell_type": "markdown",
   "metadata": {},
   "source": [
    "# Analysis"
   ]
  },
  {
   "cell_type": "code",
   "execution_count": null,
   "metadata": {},
   "outputs": [],
   "source": [
    "import pickle\n",
    "with open('epl_data/Y_merged.txt','rb') as y:\n",
    "    Y = pickle.load(y)\n",
    "with open('epl_data/A_merged.txt','rb') as a:\n",
    "    A = pickle.load(a)\n",
    "with open('epl_data/teams.txt','rb') as t:\n",
    "    teams = pickle.load(t)"
   ]
  },
  {
   "cell_type": "code",
   "execution_count": null,
   "metadata": {},
   "outputs": [],
   "source": [
    "T,N = np.shape(Y)[:2]\n",
    "T,N"
   ]
  },
  {
   "cell_type": "code",
   "execution_count": null,
   "metadata": {},
   "outputs": [],
   "source": [
    "# Check connectivity\n",
    "import graph_module as graph\n",
    "print(graph.connected(sum(A)))\n",
    "for t in range(T):\n",
    "    print(graph.connected(A[t,:,:]))"
   ]
  },
  {
   "cell_type": "markdown",
   "metadata": {},
   "source": [
    "Here, individual graphs are not connected because of promotion/relegation system of EPL but the union of all the graphs is connected."
   ]
  },
  {
   "cell_type": "markdown",
   "metadata": {},
   "source": [
    "# Cross validation"
   ]
  },
  {
   "cell_type": "code",
   "execution_count": null,
   "metadata": {},
   "outputs": [],
   "source": [
    "import loocv_module as cv\n",
    "import ls_module as ls"
   ]
  },
  {
   "cell_type": "code",
   "execution_count": null,
   "metadata": {},
   "outputs": [],
   "source": [
    "E = ls.penalty_E(N,T)\n",
    "with open(\"eigenpairs_E/eigenvectors_E_N\"+str(N)+\"_T\"+str(T)+\".txt\", \"rb\") as v:\n",
    "        V_E = pickle.load(v)\n",
    "with open(\"eigenpairs_E/eigenvalues_E_N\"+str(N)+\"_T\"+str(T)+\".txt\", \"rb\") as e:\n",
    "        eigs_E = pickle.load(e)"
   ]
  },
  {
   "cell_type": "code",
   "execution_count": null,
   "metadata": {},
   "outputs": [],
   "source": [
    "random.seed(0)\n",
    "np.random.seed(0)\n",
    "\n",
    "lambda_list_up = np.linspace(0,100,50)\n",
    "tau_list_up = np.linspace(1e-6,50,50)\n",
    "\n",
    "result_dls_up = cv.cv_dls_transync_up(Y,A,E,lambda_list_up,num_loocv = 40)\n",
    "result_dproj_up = cv.cv_dproj_transync_up(Y,A,E,V_E,eigs_E,tau_list_up,num_loocv = 40)\n",
    "lam_up_dls,z_up_dls,error_up_dls = result_dls_up\n",
    "tau_up_dproj,z_up_dproj,error_up_dproj = result_dproj_up\n",
    "print(lam_up_dls,tau_up_dproj)"
   ]
  },
  {
   "cell_type": "code",
   "execution_count": null,
   "metadata": {},
   "outputs": [],
   "source": [
    "random.seed(0)\n",
    "np.random.seed(0)\n",
    "\n",
    "lambda_list_mse = np.linspace(0,100,50)\n",
    "tau_list_mse = np.linspace(1e-6,50,50)\n",
    "\n",
    "result_dls_mse = cv.cv_dls_transync_mse(Y,A,E,lambda_list_mse,num_loocv = 40)\n",
    "result_dproj_mse = cv.cv_dproj_transync_mse(Y,A,E,V_E,eigs_E,tau_list_mse,num_loocv = 40)\n",
    "lam_mse_dls,z_mse_dls,error_mse_dls = result_dls_mse\n",
    "tau_mse_dproj,z_mse_dproj,error_mse_dproj = result_dproj_mse\n",
    "print(lam_mse_dls,tau_mse_dproj)"
   ]
  },
  {
   "cell_type": "code",
   "execution_count": null,
   "metadata": {},
   "outputs": [],
   "source": [
    "# Values obtained by cross validation\n",
    "lam_mse_dls = 12.24\n",
    "tau_mse_dproj = 45.92\n",
    "\n",
    "lam_up_dls = 16.33\n",
    "tau_up_dproj = 39.8"
   ]
  },
  {
   "cell_type": "code",
   "execution_count": null,
   "metadata": {},
   "outputs": [],
   "source": [
    "# Analysis for these values of parameter\n",
    "l_ls_mse,l_dls_mse,l_dproj_mse = epl.get_ranks_transync(lam_mse_dls,tau_mse_dproj,Y,A,teams,\n",
    "                                                            ls_flag = True,dls_flag=True,dproj_flag = True)\n",
    "l_ls_up,l_dls_up,l_dproj_up = epl.get_ranks_transync(lam_up_dls,tau_up_dproj,Y,A,teams,\n",
    "                                                            ls_flag = True,dls_flag=True,dproj_flag = True)"
   ]
  },
  {
   "cell_type": "code",
   "execution_count": null,
   "metadata": {},
   "outputs": [],
   "source": [
    "# Optimal Results for MSE criteria\n",
    "z_dls_mse,df_dls_mse,lam_mse = l_dls_mse\n",
    "z_ls_mse,df_ls_mse = l_ls_mse\n",
    "z_dproj_mse,df_dproj_mse,tau_mse = l_dproj_mse\n",
    "\n",
    "# Optimal Results for Upsets criteria\n",
    "z_dls_up,df_dls_up,lam_up = l_dls_up\n",
    "z_ls_up,df_ls_up = l_ls_up\n",
    "z_dproj_up,df_dproj_up,tau_up = l_dproj_up"
   ]
  },
  {
   "cell_type": "code",
   "execution_count": null,
   "metadata": {},
   "outputs": [],
   "source": [
    "# Number of upsets for upsets results\n",
    "upsets_ls_up = epl.get_mean_upsets_transync(Y,A,z_ls_up)\n",
    "upsets_dls_up = epl.get_mean_upsets_transync(Y,A,z_dls_up)\n",
    "upsets_dproj_up = epl.get_mean_upsets_transync(Y,A,z_dproj_up)\n",
    "\n",
    "# MSE for upsets results\n",
    "mse_ls_up = epl.get_mse_upsets_transync(Y,A,z_ls_up)\n",
    "mse_dls_up = epl.get_mse_upsets_transync(Y,A,z_dls_up)\n",
    "mse_dproj_up = epl.get_mse_upsets_transync(Y,A,z_dproj_up)"
   ]
  },
  {
   "cell_type": "code",
   "execution_count": null,
   "metadata": {},
   "outputs": [],
   "source": [
    "# Number of upsets for mse results\n",
    "upsets_ls_mse = epl.get_mean_upsets_transync(Y,A,z_ls_mse)\n",
    "upsets_dls_mse = epl.get_mean_upsets_transync(Y,A,z_dls_mse)\n",
    "upsets_dproj_mse = epl.get_mean_upsets_transync(Y,A,z_dproj_mse)\n",
    "\n",
    "# MSE for mse results\n",
    "mse_ls_mse = epl.get_mse_upsets_transync(Y,A,z_ls_mse)\n",
    "mse_dls_mse = epl.get_mse_upsets_transync(Y,A,z_dls_mse)\n",
    "mse_dproj_mse = epl.get_mse_upsets_transync(Y,A,z_dproj_mse)"
   ]
  },
  {
   "cell_type": "code",
   "execution_count": null,
   "metadata": {},
   "outputs": [],
   "source": [
    "# Mean number of upstests for each method\n",
    "np.mean(upsets_ls_up),np.mean(upsets_dls_up),np.mean(upsets_dproj_up)"
   ]
  },
  {
   "cell_type": "code",
   "execution_count": null,
   "metadata": {},
   "outputs": [],
   "source": [
    "# Mean MSE for each method\n",
    "np.mean(mse_ls_mse),np.mean(mse_dls_mse),np.mean(mse_dproj_mse)"
   ]
  },
  {
   "cell_type": "markdown",
   "metadata": {},
   "source": [
    "# Another performance criterion"
   ]
  },
  {
   "cell_type": "markdown",
   "metadata": {},
   "source": [
    "## Check smoothness for \"ground truth\""
   ]
  },
  {
   "cell_type": "markdown",
   "metadata": {},
   "source": [
    "We define the ground truth vector $z^*$ such that \n",
    "$$z^*_{t,i} = \\frac{1}{N_{t,i}} \\sum_{j \\in N_{t,i}} y_{ij}(t)$$\n",
    "where $N_{t,i}$ denotes the set of neighbours of $i$ at time $t$"
   ]
  },
  {
   "cell_type": "code",
   "execution_count": null,
   "metadata": {},
   "outputs": [],
   "source": [
    "# Define ground truth\n",
    "z_star = np.zeros((T,N))\n",
    "for t in range(T):\n",
    "    for i in range(N):\n",
    "        Nti = np.sum(A[t,i,:]) # Number of games played by team i at time t\n",
    "        if Nti != 0:\n",
    "            z_star[t,i] = np.sum(Y[t,i,:])/Nti\n",
    "        else:\n",
    "            z_star[t,i] = 0"
   ]
  },
  {
   "cell_type": "code",
   "execution_count": null,
   "metadata": {},
   "outputs": [],
   "source": [
    "# Select teams that played at all times\n",
    "l_teams = []\n",
    "for i in range(N):\n",
    "    if np.all(z_star[:,i] != 0):\n",
    "        l_teams.append(i)"
   ]
  },
  {
   "cell_type": "code",
   "execution_count": null,
   "metadata": {},
   "outputs": [],
   "source": [
    "teams[l_teams]"
   ]
  },
  {
   "cell_type": "code",
   "execution_count": null,
   "metadata": {},
   "outputs": [],
   "source": [
    "[str(merged_seasons[i])[1:-1] for i in range(9)]"
   ]
  },
  {
   "cell_type": "code",
   "execution_count": null,
   "metadata": {},
   "outputs": [],
   "source": [
    "[all_seasons[2*i] for i in range(9) ]"
   ]
  },
  {
   "cell_type": "code",
   "execution_count": null,
   "metadata": {},
   "outputs": [],
   "source": [
    "fig,ax = plt.subplots(figsize=(8,6))\n",
    "\n",
    "for i in l_teams[:5]:\n",
    "    ax.plot([all_seasons[2*i] for i in range(9) ],z_star[:,i],label=teams[i])\n",
    "    \n",
    "ax.set_ylabel('Ground truth $z^{*,emp}_{t,i}$')\n",
    "ax.set_xlabel('Seasons')\n",
    "ax.xaxis.set_ticks([all_seasons[2*i] for i in range(9) ])\n",
    "ax.set_xticklabels([all_seasons[2*i] for i in range(9) ])\n",
    "\n",
    "ax.set_title('Evolution of the strength of the teams')\n",
    "plt.legend(ncol=2,loc='lower right',frameon =False)\n",
    "\n",
    "fig.savefig('smoothness_epl_5teams.png')\n",
    "plt.show()"
   ]
  },
  {
   "cell_type": "code",
   "execution_count": null,
   "metadata": {},
   "outputs": [],
   "source": []
  }
 ],
 "metadata": {
  "kernelspec": {
   "display_name": "Python 3",
   "language": "python",
   "name": "python3"
  },
  "language_info": {
   "codemirror_mode": {
    "name": "ipython",
    "version": 3
   },
   "file_extension": ".py",
   "mimetype": "text/x-python",
   "name": "python",
   "nbconvert_exporter": "python",
   "pygments_lexer": "ipython3",
   "version": "3.8.5"
  }
 },
 "nbformat": 4,
 "nbformat_minor": 4
}
