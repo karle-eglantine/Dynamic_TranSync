{
 "cells": [
  {
   "cell_type": "markdown",
   "metadata": {},
   "source": [
    "This notebook, written by E. Karlé, contains the code necessary to reproduce Figures 1 to 5, C.1 and C.2 from the article Dynamic Ranking and Translation Synchronization https://arxiv.org/pdf/2207.01455.pdf"
   ]
  },
  {
   "cell_type": "code",
   "execution_count": null,
   "metadata": {},
   "outputs": [],
   "source": [
    "import os\n",
    "import random\n",
    "import matplotlib\n",
    "import numpy as np\n",
    "import pandas as pd\n",
    "import matplotlib.pyplot as plt\n",
    "import scipy\n",
    "import pickle\n",
    "\n",
    "import sys\n",
    "sys.path.append('modules')"
   ]
  },
  {
   "cell_type": "code",
   "execution_count": null,
   "metadata": {},
   "outputs": [],
   "source": [
    "plt.rcParams.update({'font.size': 16})"
   ]
  },
  {
   "cell_type": "markdown",
   "metadata": {},
   "source": [
    "This notebook is constructed such that each subsection (corresponding to each figure) can be executed independently."
   ]
  },
  {
   "cell_type": "markdown",
   "metadata": {},
   "source": [
    "# Figure 1 : TranSync analysis for different smoothness"
   ]
  },
  {
   "cell_type": "markdown",
   "metadata": {},
   "source": [
    "This code plots the MSE versus T for DLS and DProj when the data is generated according to the Dynamic TranSync model for $N = 100$ and graphs are generated as $\\mathcal{G}(n, p(t))$ with $p(t)$ chosen randomly between $\\frac{1}{n}$ and $\\frac{\\log(n)}{n}$. The results are averaged over the grid $\\mathcal{T}$ as well as 40 Monte Carlo runs."
   ]
  },
  {
   "cell_type": "code",
   "execution_count": null,
   "metadata": {},
   "outputs": [],
   "source": [
    "from transync import transync_analysis"
   ]
  },
  {
   "cell_type": "code",
   "execution_count": null,
   "metadata": {},
   "outputs": [],
   "source": [
    "# Fixed parameters\n",
    "\n",
    "N = 100 # Number of items\n",
    "list_T = [10,30,50,70,100,130,150,170,200] # Number of time points\n",
    "B = 40 # Number of Monte Carlo runs\n",
    "\n",
    "# Connectivity of graphs is chosen randomly between p1/N and p2/N \n",
    "p1 = 1 \n",
    "p2 = np.log(N)\n",
    "\n",
    "# Estimation method to use\n",
    "ls_flag = False # Naive LS method\n",
    "dls_flag = True # Dynamic LS method\n",
    "dproj_flag = True # Dynamic Projection method"
   ]
  },
  {
   "cell_type": "markdown",
   "metadata": {},
   "source": [
    "We call the transync_analysis function for different values of $\\alpha$, where $S_T = \\frac{1}{T^\\alpha}$ and plot the results."
   ]
  },
  {
   "cell_type": "markdown",
   "metadata": {},
   "source": [
    "## $S_T = \\frac{1}{T}$"
   ]
  },
  {
   "cell_type": "code",
   "execution_count": null,
   "metadata": {},
   "outputs": [],
   "source": [
    "# Analysis with alpha = 1\n",
    "MSE_ls_1,MSE_dls_1,MSE_dproj_1,data_ls_1,data_dls_1,data_dproj_1 = transync_analysis(N,list_T,B,1,p1,p2,ls_flag,dls_flag,dproj_flag)\n",
    "\n",
    "# Plot\n",
    "fig, ax = plt.subplots(1, figsize=(8, 6))\n",
    "\n",
    "# MSE\n",
    "ax.plot(list_T, MSE_dls_1,marker='s',label = \"DLS\",color='blue')\n",
    "ax.plot(list_T, MSE_dproj_1,marker='s',label = \"DProj\",color='red')\n",
    "\n",
    "# Boxplot\n",
    "box_dls_1 = ax.boxplot(data_dls_1,showfliers=False,positions=[t for t in list_T],widths = 1)\n",
    "box_dproj_1 = ax.boxplot(data_dproj_1,showfliers=False,positions=[t+2 for t in list_T],widths = 1)\n",
    "\n",
    "for _, line_list in box_dls_1.items(): \n",
    "    for line in line_list: \n",
    "        line.set_color('blue') \n",
    "        \n",
    "for _, line_list in box_dproj_1.items(): \n",
    "    for line in line_list: \n",
    "        line.set_color('red') \n",
    "\n",
    "ax.set_xticks([10,30,50,70,100,130,150,170,200])\n",
    "ax.set_yscale('log')\n",
    "ax.set_xlabel('T')\n",
    "ax.set_ylabel('$\\| \\|\\widehat{z} - z^*\\|\\|^2/T$')\n",
    "        \n",
    "# Add a legend, and position it on the lower right (with no box)\n",
    "plt.legend(loc=\"upper right\", frameon=False)\n",
    "plt.title('Mean error over time T, Transync data, $S_T = 1/T$')\n",
    "plt.show()"
   ]
  },
  {
   "cell_type": "markdown",
   "metadata": {},
   "source": [
    "## $S_T = \\frac{1}{\\sqrt{T}}$"
   ]
  },
  {
   "cell_type": "code",
   "execution_count": null,
   "metadata": {},
   "outputs": [],
   "source": [
    "# Analysis with alpha = 0.5\n",
    "MSE_ls_05,MSE_dls_05,MSE_dproj_05,data_ls_05,data_dls_05,data_dproj_05 = transync_analysis(N,list_T,B,0.5,p1,p2,ls_flag,dls_flag,dproj_flag)\n",
    "\n",
    "# Plot\n",
    "fig, ax = plt.subplots(1, figsize=(8, 6))\n",
    "\n",
    "# MSE\n",
    "ax.plot(list_T, MSE_dls_05,marker='s',label = \"DLS\",color='blue')\n",
    "ax.plot(list_T, MSE_dproj_05,marker='s',label = \"DProj\",color='red')\n",
    "\n",
    "# Boxplot\n",
    "box_dls_05 = ax.boxplot(data_dls_05,showfliers=False,positions=[t for t in list_T],widths = 1)\n",
    "box_dproj_05 = ax.boxplot(data_dproj_05,showfliers=False,positions=[t+2 for t in list_T],widths = 1)\n",
    "\n",
    "for _, line_list in box_dls_05.items(): \n",
    "    for line in line_list: \n",
    "        line.set_color('blue') \n",
    "        \n",
    "for _, line_list in box_dproj_05.items(): \n",
    "    for line in line_list: \n",
    "        line.set_color('red') \n",
    "\n",
    "ax.set_xticks([10,30,50,70,100,130,150,170,200])\n",
    "ax.set_yscale('log')\n",
    "ax.set_xlabel('T')\n",
    "ax.set_ylabel('$\\| \\|\\widehat{z} - z^*\\|\\|^2/T$')\n",
    "        \n",
    "# Add a legend, and position it on the lower right (with no box)\n",
    "plt.legend(loc=\"upper right\", frameon=False)\n",
    "plt.title('Mean error over time T, Transync data, $S_T = 1/\\sqrt{T}$')\n",
    "plt.show()"
   ]
  },
  {
   "cell_type": "markdown",
   "metadata": {},
   "source": [
    "## $S_T = 1$"
   ]
  },
  {
   "cell_type": "code",
   "execution_count": null,
   "metadata": {},
   "outputs": [],
   "source": [
    "# Analysis with alpha = 0\n",
    "MSE_ls_0,MSE_dls_0,MSE_dproj_0,data_ls_0,data_dls_0,data_dproj_0 = transync_analysis(N,list_T,B,0,p1,p2,ls_flag,dls_flag,dproj_flag)\n",
    "\n",
    "# Plot\n",
    "fig, ax = plt.subplots(1, figsize=(8, 6))\n",
    "\n",
    "# MSE\n",
    "ax.plot(list_T, MSE_dls_0,marker='s',label = \"DLS\",color='blue')\n",
    "ax.plot(list_T, MSE_dproj_0,marker='s',label = \"DProj\",color='red')\n",
    "\n",
    "# Boxplot\n",
    "box_dls_0 = ax.boxplot(data_dls_0,showfliers=False,positions=[t for t in list_T],widths = 1)\n",
    "box_dproj_0 = ax.boxplot(data_dproj_0,showfliers=False,positions=[t+2 for t in list_T],widths = 1)\n",
    "\n",
    "for _, line_list in box_dls_0.items(): \n",
    "    for line in line_list: \n",
    "        line.set_color('blue') \n",
    "        \n",
    "for _, line_list in box_dproj_0.items(): \n",
    "    for line in line_list: \n",
    "        line.set_color('red') \n",
    "\n",
    "ax.set_xticks([10,30,50,70,100,130,150,170,200])\n",
    "ax.set_yscale('log')\n",
    "ax.set_xlabel('T')\n",
    "ax.set_ylabel('$\\| \\|\\widehat{z} - z^*\\|\\|^2/T$')\n",
    "        \n",
    "# Add a legend, and position it on the lower right (with no box)\n",
    "plt.legend(loc=\"upper right\", frameon=False)\n",
    "plt.title('Mean error over time T, Transync data, $S_T = 1$')\n",
    "plt.show()"
   ]
  },
  {
   "cell_type": "markdown",
   "metadata": {},
   "source": [
    "## $S_T = \\sqrt{T}$"
   ]
  },
  {
   "cell_type": "code",
   "execution_count": null,
   "metadata": {},
   "outputs": [],
   "source": [
    "# Analysis with alpha = -0.5\n",
    "MSE_ls_m05,MSE_dls_m05,MSE_dproj_m05,data_ls_m05,data_dls_m05,data_dproj_m05 = transync_analysis(N,list_T,B,-0.5,p1,p2,ls_flag,dls_flag,dproj_flag)\n",
    "\n",
    "# Plot\n",
    "fig, ax = plt.subplots(1, figsize=(8, 6))\n",
    "\n",
    "# MSE\n",
    "ax.plot(list_T, MSE_dls_m05,marker='s',label = \"DLS\",color='blue')\n",
    "ax.plot(list_T, MSE_dproj_m05,marker='s',label = \"DProj\",color='red')\n",
    "\n",
    "# Boxplot\n",
    "box_dls_m05 = ax.boxplot(data_dls_m05,showfliers=False,positions=[t for t in list_T],widths = 1)\n",
    "box_dproj_m05 = ax.boxplot(data_dproj_m05,showfliers=False,positions=[t+2 for t in list_T],widths = 1)\n",
    "\n",
    "for _, line_list in box_dls_m05.items(): \n",
    "    for line in line_list: \n",
    "        line.set_color('blue') \n",
    "        \n",
    "for _, line_list in box_dproj_m05.items(): \n",
    "    for line in line_list: \n",
    "        line.set_color('red') \n",
    "\n",
    "ax.set_xticks([10,30,50,70,100,130,150,170,200])\n",
    "ax.set_yscale('log')\n",
    "ax.set_xlabel('T')\n",
    "ax.set_ylabel('$\\| \\|\\widehat{z} - z^*\\|\\|^2/T$')\n",
    "        \n",
    "# Add a legend, and position it on the lower right (with no box)\n",
    "plt.legend(loc=\"upper right\", frameon=False)\n",
    "plt.title('Mean error over time T, Transync data, $S_T = \\sqrt{T}$')\n",
    "plt.show()"
   ]
  },
  {
   "cell_type": "markdown",
   "metadata": {},
   "source": [
    "# Figure 2 : Analysis on BTL data for different smoothness"
   ]
  },
  {
   "cell_type": "markdown",
   "metadata": {},
   "source": [
    "This code plots the MSE versus T for DLS, DProj, DRC and MLE when the data is generated according to the BTL model for $N = 100$, and graphs are $\\mathcal{G}(n, p(t))$ with $p(t)$ chosen randomly between $\\frac{1}{n}$ and $\\frac{\\log(n)}{n}$. The results are averaged over the grid $\\mathcal{T}$ as well as 40 Monte Carlo runs."
   ]
  },
  {
   "cell_type": "code",
   "execution_count": null,
   "metadata": {},
   "outputs": [],
   "source": [
    "from btl_analysis import btl"
   ]
  },
  {
   "cell_type": "code",
   "execution_count": null,
   "metadata": {},
   "outputs": [],
   "source": [
    "# Fixed parameters\n",
    "\n",
    "N = 100 # Number of items\n",
    "list_T = [10,30,50,70,100,130,150,170,200] # Number of time points\n",
    "B = 40 #  Number of MC runs\n",
    "\n",
    "L = 10 # Number of observations for each pair of item in the BTL model\n",
    "c_delta = 0.5 # parameter for the neighborhood size in the DRC method\n",
    "\n",
    "# Connectivity of graphs is chosen randomly between p1/N and p2/N \n",
    "p1 = 1 \n",
    "p2 = np.log(N)\n",
    "\n",
    "# Estimation method to use\n",
    "dls_flag = True # Dynamic Least Squares method\n",
    "dproj_flag = True # Dynamic Projection method\n",
    "drc_flag = True # Dynamic Rank Centrality method\n",
    "mle_flag = True # Maximum Likelihood method"
   ]
  },
  {
   "cell_type": "markdown",
   "metadata": {},
   "source": [
    "We call the function btl which runs the methods DLS, Dproj, DRC and MLE on data generated according to the BTL model for different values of smoothness."
   ]
  },
  {
   "cell_type": "markdown",
   "metadata": {},
   "source": [
    "## $S_T = \\frac{1}{T}$"
   ]
  },
  {
   "cell_type": "code",
   "execution_count": null,
   "metadata": {},
   "outputs": [],
   "source": [
    "# alpha = 1\n",
    "MSE_dls_1,MSE_dproj_1,MSE_drc_1,MSE_mle_1 = btl(N,list_T,B,1,p1,p2,L,c_delta,dls_flag,dproj_flag,drc_flag,mle_flag)\n",
    "\n",
    "# Plot\n",
    "fig, ax = plt.subplots(1, figsize=(8, 6))\n",
    "\n",
    "ax.plot(list_T, MSE_dls_1,marker='s',label = \"DLS\",color='blue')\n",
    "ax.plot(list_T, MSE_dproj_1,marker='s',label = \"DProj\",color='red')\n",
    "ax.plot(list_T, MSE_drc_1,marker='s',label = \"DRC\",color='orange')\n",
    "ax.plot(list_T, MSE_mle_1,marker='s',label = \"MLE\",color='green')\n",
    "\n",
    "ax.set_xticks(list_T)\n",
    "ax.set_yscale('log')\n",
    "ax.set_xlabel('T')\n",
    "ax.set_ylabel('$\\| \\|\\widehat{z} - z^*\\|\\|^2/T$')\n",
    "        \n",
    "# Add a legend, and position it on the lower right (with no box)\n",
    "plt.legend(loc=\"upper right\", frameon=False)\n",
    "plt.title('Mean error over time T, BTL data, $S_T = 1/T$')\n",
    "plt.show()\n"
   ]
  },
  {
   "cell_type": "markdown",
   "metadata": {},
   "source": [
    "## $S_T = \\frac{1}{\\sqrt{T}}$"
   ]
  },
  {
   "cell_type": "code",
   "execution_count": null,
   "metadata": {},
   "outputs": [],
   "source": [
    "# Analysis with alpha = 0.5\n",
    "MSE_dls_05,MSE_dproj_05,MSE_drc_05,MSE_mle_05 = btl(N,list_T,B,0.5,p1,p2,L,c_delta,dls_flag,dproj_flag,drc_flag,mle_flag)\n",
    "\n",
    "# Plot\n",
    "fig, ax = plt.subplots(1, figsize=(8, 6))\n",
    "\n",
    "ax.plot(list_T, MSE_dls_05,marker='s',label = \"DLS\",color='blue')\n",
    "ax.plot(list_T, MSE_dproj_05,marker='s',label = \"DProj\",color='red')\n",
    "ax.plot(list_T, MSE_drc_05,marker='s',label = \"DRC\",color='orange')\n",
    "ax.plot(list_T, MSE_mle_05,marker='s',label = \"MLE\",color='green')\n",
    "\n",
    "ax.set_xticks(list_T)\n",
    "ax.set_yscale('log')\n",
    "ax.set_xlabel('T')\n",
    "ax.set_ylabel('$\\| \\|\\widehat{z} - z^*\\|\\|^2/T$')\n",
    "        \n",
    "# Add a legend, and position it on the lower right (with no box)\n",
    "plt.legend(loc=\"upper right\", frameon=False)\n",
    "plt.title('Mean error over time T, BTL data, $S_T = 1/\\sqrt{T}$')\n",
    "plt.show()\n"
   ]
  },
  {
   "cell_type": "markdown",
   "metadata": {},
   "source": [
    "# Figure 3 : Comparison of TranSync analysis with naive LS"
   ]
  },
  {
   "cell_type": "markdown",
   "metadata": {},
   "source": [
    "This code plots the evolution of estimation errors with T for Least-Squares, DLS and DProj method when the synthetic data are generated according to the Dynamic TranSync model for $N = 100$ and the graphs are generated as $\\mathcal{G}(n, p(t))$ with $p(t) =\\frac{log(n)}{n}$. In particular, we ensure that the individual graphs are all connected. The results are averaged over the grid $\\mathcal{T}$ as well\n",
    "as 20 Monte Carlo runs."
   ]
  },
  {
   "cell_type": "code",
   "execution_count": null,
   "metadata": {},
   "outputs": [],
   "source": [
    "from transync import transync_analysis"
   ]
  },
  {
   "cell_type": "code",
   "execution_count": null,
   "metadata": {},
   "outputs": [],
   "source": [
    "# Fixed parameters\n",
    "\n",
    "N = 100 # Number of items\n",
    "list_T = [10,30,50,70,100,130,150,170,200] # Number of time points\n",
    "B = 40 # Number of Monte Carlo runs\n",
    "\n",
    "# Connectivity of graphs is chosen randomly between p1/N and p2/N : here we choose a connectivity of log(N)/N for all graphs\n",
    "p1 = np.log(N) \n",
    "p2 = np.log(N)\n",
    "\n",
    "# Estimation method to use\n",
    "ls_flag = True # Naive Least Squares method\n",
    "dls_flag = True # Dynamic Least Squares method\n",
    "dproj_flag = True # Dynamic Projection method"
   ]
  },
  {
   "cell_type": "markdown",
   "metadata": {},
   "source": [
    "We call the transync_analysis function for different values of $\\alpha$, where $S_T = \\frac{1}{T^\\alpha}$ and plot the results."
   ]
  },
  {
   "cell_type": "markdown",
   "metadata": {},
   "source": [
    "## $S_T = \\frac{1}{T}$"
   ]
  },
  {
   "cell_type": "code",
   "execution_count": null,
   "metadata": {},
   "outputs": [],
   "source": [
    "# Analysis with alpha = 1\n",
    "MSE_ls_1,MSE_dls_1,MSE_dproj_1,_,_,_ = transync_analysis(N,list_T,B,1,p1,p2,ls_flag,dls_flag,dproj_flag)\n",
    "\n",
    "# Plot\n",
    "fig, ax = plt.subplots(1, figsize=(8, 6))\n",
    "\n",
    "ax.plot(list_T, MSE_ls_1,marker='s',label = \"LS\")\n",
    "ax.plot(list_T, MSE_dls_1,marker='s',label = \"DLS\")\n",
    "ax.plot(list_T, MSE_dproj_1,marker='s',label = \"DProj\")\n",
    "\n",
    "ax.set_xticks(list_T)\n",
    "ax.set_yscale('log')\n",
    "ax.set_xlabel('T')\n",
    "ax.set_ylabel('$\\| \\|\\widehat{z} - z^*\\|\\|^2/T$')\n",
    "        \n",
    "# Add a legend, and position it on the lower right (with no box)\n",
    "plt.legend(loc=\"upper right\", frameon=False)\n",
    "plt.title('Mean error over time T, $S_T = 1/T$')\n",
    "plt.show()\n"
   ]
  },
  {
   "cell_type": "markdown",
   "metadata": {},
   "source": [
    "## $S_T = \\sqrt{T}$"
   ]
  },
  {
   "cell_type": "code",
   "execution_count": null,
   "metadata": {},
   "outputs": [],
   "source": [
    "# Analysis with alpha = -0.5\n",
    "MSE_ls_m05,MSE_dls_m05,MSE_dproj_m05,_,_,_ = transync_analysis(N,list_T,B,-0.5,p1,p2,ls_flag,dls_flag,dproj_flag)\n",
    "\n",
    "# Initialise the figure and axes.\n",
    "fig, ax = plt.subplots(1, figsize=(8, 6))\n",
    "\n",
    "ax.plot(list_T, MSE_ls_m05,marker='s',label = \"LS\")\n",
    "ax.plot(list_T, MSE_dls_m05,marker='s',label = \"DLS\")\n",
    "ax.plot(list_T, MSE_dproj_m05,marker='s',label = \"DProj\")\n",
    "\n",
    "ax.set_xticks(list_T)\n",
    "ax.set_yscale('log')\n",
    "ax.set_xlabel('T')\n",
    "ax.set_ylabel('$\\| \\|\\widehat{z} - z^*\\|\\|^2/T$')\n",
    "        \n",
    "# Add a legend, and position it on the lower right (with no box)\n",
    "plt.legend(loc=\"upper right\", frameon=False)\n",
    "plt.title('Mean error over time T, $S_T = \\sqrt{T}$')\n",
    "plt.show()\n"
   ]
  },
  {
   "cell_type": "markdown",
   "metadata": {},
   "source": [
    "# Figure 4 : TranSync analysis for different connectivity parameters"
   ]
  },
  {
   "cell_type": "markdown",
   "metadata": {},
   "source": [
    "This code plots the evolution of estimation errors with T for DLS and DProj method when the synthetic data are generated according to the Dynamic TranSync model for $N = 100$ and the graphs are generated as $\\mathcal{G}(n, p)$ for different choices of (constant) $p$. In particular, we ensure that the individual graphs are all connected. The results are averaged over the grid $\\mathcal{T}$ as well as 20 Monte Carlo runs."
   ]
  },
  {
   "cell_type": "code",
   "execution_count": null,
   "metadata": {},
   "outputs": [],
   "source": [
    "from transync import transync_analysis"
   ]
  },
  {
   "cell_type": "code",
   "execution_count": null,
   "metadata": {},
   "outputs": [],
   "source": [
    "# Fixed parameters\n",
    "\n",
    "N = 100 # Number of items\n",
    "list_T = [10,30,50,70,100,130,150,170,200] # Number of timepoints\n",
    "B = 20 # Number of Monte Carlo runs\n",
    "\n",
    "# Smoothness S_T = 1/T^{alpha}\n",
    "alpha = 1\n",
    "\n",
    "# Estimation method to use\n",
    "ls_flag = False # Naive Least Squares method\n",
    "dls_flag = True # Dynamic Least Squares method\n",
    "dproj_flag = True # Dynamic Projection method"
   ]
  },
  {
   "cell_type": "markdown",
   "metadata": {},
   "source": [
    "We call the transync_analysis function for different values of connectivity $p$."
   ]
  },
  {
   "cell_type": "code",
   "execution_count": null,
   "metadata": {},
   "outputs": [],
   "source": [
    "# Analysis with p = 1/N\n",
    "MSE_ls_1,MSE_dls_1,MSE_dproj_1,_,_,_ = transync_analysis(N,list_T,B,alpha,1,1,ls_flag,dls_flag,dproj_flag)\n",
    "\n",
    "# Analysis with p = log(N)/N\n",
    "MSE_ls_log,MSE_dls_log,MSE_dproj_log,_,_,_ = transync_analysis(N,list_T,B,alpha,np.log(N),np.log(N),ls_flag,dls_flag,dproj_flag)\n",
    "\n",
    "# Analysis with p = 1/sqrt(N)\n",
    "MSE_ls_sqrt,MSE_dls_sqrt,MSE_dproj_sqrt,_,_,_ = transync_analysis(N,list_T,B,alpha,np.sqrt(N),np.sqrt(N),ls_flag,dls_flag,dproj_flag)"
   ]
  },
  {
   "cell_type": "markdown",
   "metadata": {},
   "source": [
    "## Plots of the error for DLS method for different connectivity $p$"
   ]
  },
  {
   "cell_type": "code",
   "execution_count": null,
   "metadata": {},
   "outputs": [],
   "source": [
    "# DLS Method\n",
    "\n",
    "fig, ax0 = plt.subplots(1, figsize=(8, 6))\n",
    "\n",
    "# p = 1/n\n",
    "ax0.plot(list_T, MSE_dls_1,marker='s',label = \"$p=1/n$\",color='blue')\n",
    "\n",
    "# p =log(n)/n\n",
    "ax0.plot(list_T, MSE_dls_log,marker='s',label = \"$p=\\log (n)/n$\",color='red')\n",
    "\n",
    "# p = 1/sqrt(n)\n",
    "ax0.plot(list_T, MSE_dls_sqrt,marker='s',label = \"$p=1/\\sqrt{n}$\",color='green')\n",
    "\n",
    "ax0.set_xticks([10,30,50,70,100,130,150,170,200])\n",
    "ax0.set_yscale('log')\n",
    "ax0.set_xlabel('T')\n",
    "ax0.set_ylabel('$\\| \\|\\widehat{z} - z^*\\|\\|^2/T$')\n",
    "\n",
    "# Add a legend, and position it on the lower right (with no box)\n",
    "ax0.legend(loc=\"upper right\", frameon=False)\n",
    "plt.title('Mean error over time T with $S_T = 1/T$')\n",
    "plt.show()\n"
   ]
  },
  {
   "cell_type": "markdown",
   "metadata": {},
   "source": [
    "## Plots of the error for DProj method for different connectivity $p$"
   ]
  },
  {
   "cell_type": "code",
   "execution_count": null,
   "metadata": {},
   "outputs": [],
   "source": [
    "# DProj method\n",
    "\n",
    "fig, ax1 = plt.subplots(1, figsize=(8, 6))\n",
    "\n",
    "# p = 1/n\n",
    "ax1.plot(list_T, MSE_dproj_1,marker='s',label = \"$p=1/n$\",color='blue')\n",
    "\n",
    "# p =log(n)/n\n",
    "ax1.plot(list_T, MSE_dproj_log,marker='s',label = \"$p=\\log (n)/n$\",color='red')\n",
    "\n",
    "# p = 1/\\sqrt(n)\n",
    "ax1.plot(list_T, MSE_dproj_sqrt,marker='s',label = \"$p=1/\\sqrt{n}$\",color='green')\n",
    "\n",
    "ax1.set_xticks([10,30,50,70,100,130,150,170,200])\n",
    "ax1.set_yscale('log')\n",
    "ax1.set_xlabel('T')\n",
    "ax1.set_ylabel('$\\| \\|\\widehat{z} - z^*\\|\\|^2/T$')\n",
    "\n",
    "# Add a legend, and position it on the lower right (with no box)\n",
    "ax1.legend(loc=\"upper right\", frameon=False)\n",
    "plt.title('Mean error over time T with $S_T = 1/T$')\n",
    "plt.show()\n"
   ]
  },
  {
   "cell_type": "markdown",
   "metadata": {},
   "source": [
    "# Figure 5 : Performance of our methods for different hyper parameters $\\lambda$ and $\\tau$"
   ]
  },
  {
   "cell_type": "markdown",
   "metadata": {},
   "source": [
    "This code plots the performances of our methods for different values of hyperparameter, with $N = 100, T = 200$ and $\\sigma = 1$. We highlight in red on the x-axis the optimal values of parameter computed theoretically, $\\lambda = \\sigma^{4/3}\\left(\\frac{T}{S_T}\\right)^{2/3}$ for the DLS method and $\\tau = \\sigma^{-4/3}\\left(\\frac{S_T}{T}\\right)^{2/3}$ for the DProj method. The results are averaged over 20 Monte Carlo runs."
   ]
  },
  {
   "cell_type": "code",
   "execution_count": null,
   "metadata": {},
   "outputs": [],
   "source": [
    "from performance_dls_vs_lambda import perf_dls\n",
    "from performance_dproj_vs_tau import perf_dproj"
   ]
  },
  {
   "cell_type": "code",
   "execution_count": null,
   "metadata": {},
   "outputs": [],
   "source": [
    "# Fixed parameters\n",
    "\n",
    "N = 100 # Number of items\n",
    "T = 200 # Number of time points\n",
    "B = 20 # Number of Monte Carlo runs\n",
    "\n",
    "# Smoothness S_T = 1/T^{alpha}\n",
    "alpha = 1\n",
    "\n",
    "# Connectivity of graphs is chosen randomly between p1/N and p2/N : here we choose a connectivity of log(N)/N for all graphs\n",
    "p1 = np.log(N)\n",
    "p2 = np.log(N)\n",
    "\n",
    "# List of candidates for hyper parameters\n",
    "list_tau = [1e-4,1e-3,1e-2,1e-1,1] # Candidate values for tau\n",
    "list_lambda = [10**i for i in range(0,10)] # Candidate values for lambda\n"
   ]
  },
  {
   "cell_type": "markdown",
   "metadata": {},
   "source": [
    "## Performance of the DLS method against $\\lambda$"
   ]
  },
  {
   "cell_type": "code",
   "execution_count": null,
   "metadata": {},
   "outputs": [],
   "source": [
    "# Performance analysis of the DLS method\n",
    "MSE_dls,data_dls = perf_dls(N,T,B,alpha,p1,p2,list_lambda)\n",
    "\n",
    "# Plot\n",
    "fig, ax = plt.subplots(1, figsize=(8, 6))\n",
    "\n",
    "ax.plot(list_lambda, MSE_dls ,marker='s',label = \"DLS\",color='blue')\n",
    "ax.plot((T/S_T)**(2/3),0,marker = 'o',color='red',clip_on=False) # Value of parameter derived theoretically\n",
    "\n",
    "\n",
    "ax.set_xticks(list_tau)\n",
    "ax.set_xscale('log')\n",
    "ax.set_xlabel(r'$\\lambda$')\n",
    "ax.set_ylabel('$ \\|\\widehat{z} - z^*\\|^2/T$')\n",
    "ax.set_ylim(0,5.7)\n",
    "        \n",
    "# Add a legend, and position it on the lower right (with no box)\n",
    "plt.legend(loc=\"upper right\", frameon=False)\n",
    "plt.title('Performance against $\\lambda$ - $S_T = 1/T$')\n",
    "plt.show()\n"
   ]
  },
  {
   "cell_type": "markdown",
   "metadata": {},
   "source": [
    "## Performance of the DProj method against $\\tau$"
   ]
  },
  {
   "cell_type": "code",
   "execution_count": null,
   "metadata": {},
   "outputs": [],
   "source": [
    "# Performance analysis of the DProj method\n",
    "MSE_dproj,data_dproj = perf_dproj(N,T,B,alpha,p1,p2,list_tau)\n",
    "\n",
    "# Plot\n",
    "fig, ax = plt.subplots(1, figsize=(8, 6))\n",
    "\n",
    "ax.plot(list_tau, MSE_dproj,marker='s',label = \"DProj\",color='blue')\n",
    "ax.plot((S_T/T)**(2/3),0,marker = 'o',color='red',clip_on = False) # Value of parameter derived theoretically\n",
    "\n",
    "\n",
    "ax.set_xticks(list_tau)\n",
    "ax.set_xscale('log')\n",
    "ax.set_xlabel(r'$\\tau$')\n",
    "ax.set_ylabel('$\\|\\widehat{z} - z^*\\|^2/T$')\n",
    "ax.set_ylim(0,2.6)\n",
    "        \n",
    "# Add a legend, and position it on the lower right (with no box)\n",
    "plt.legend(loc=\"best\", frameon=False)\n",
    "plt.title(r'Performance against $ \\tau $ - $S_T = 1/T$')\n",
    "plt.show()\n"
   ]
  },
  {
   "cell_type": "markdown",
   "metadata": {},
   "source": [
    "# Figure C1 : eigenvalues of $L$ and $L(\\lambda)$"
   ]
  },
  {
   "cell_type": "markdown",
   "metadata": {},
   "source": [
    "This code plots the histogram of eigenvalues of $L$ and $L(\\lambda)$ for different values of $\\lambda = c_\\lambda\\left(\\frac{T}{S_T}\\right)^{2/3}$, for $T = 200$ and $N = 100$. "
   ]
  },
  {
   "cell_type": "code",
   "execution_count": null,
   "metadata": {},
   "outputs": [],
   "source": [
    "from eigenvalues_L_lam import eigs_L_lam"
   ]
  },
  {
   "cell_type": "code",
   "execution_count": null,
   "metadata": {},
   "outputs": [],
   "source": [
    "# Fixed parameters\n",
    "\n",
    "N = 100 # Number of items\n",
    "T = 200 # Number of items\n",
    "\n",
    "# Smoothness S_T = 1/T^{alpha}\n",
    "alpha = 1\n",
    "\n",
    "# Connectivity of graphs is chosen randomly between p1/N and p2/N : here we choose a connectivity of log(N)/N for all graphs\n",
    "p1 = np.log(N)\n",
    "p2 = np.log(N)\n",
    "\n",
    "# List of values for c_lambda\n",
    "list_lambda = [0,1e-2,1e-1,1,10]\n"
   ]
  },
  {
   "cell_type": "markdown",
   "metadata": {},
   "source": [
    "We call the function eigs_L_lam to compute the eigenvalues of $L(\\lambda)$ for all candidates $\\lambda$."
   ]
  },
  {
   "cell_type": "code",
   "execution_count": null,
   "metadata": {},
   "outputs": [],
   "source": [
    "eigs = eigs_L_lam(N,T,alpha,p1,p2,list_lambda)"
   ]
  },
  {
   "cell_type": "code",
   "execution_count": null,
   "metadata": {},
   "outputs": [],
   "source": [
    "# Plot the eigenvalues of L = L(0)\n",
    "\n",
    "fig, ax = plt.subplots(figsize=(8,6))\n",
    "\n",
    "ax.hist(eigs[0,:],density=True)\n",
    "ax.set_title('Eigenvalues of L')\n",
    "ax.set_ylabel('Frequency')\n",
    "\n",
    "plt.show()"
   ]
  },
  {
   "cell_type": "code",
   "execution_count": null,
   "metadata": {},
   "outputs": [],
   "source": [
    "# Plot the eigenvalues of L(lambda)\n",
    "\n",
    "fig, ((ax0, ax1), (ax2, ax3)) = plt.subplots(nrows=2, ncols=2,figsize=(10,10))\n",
    "\n",
    "ax0.hist(eigs[1,:])\n",
    "ax0.set_title('$c_\\lambda =$ '+str(list_lambda[1]))\n",
    "\n",
    "ax1.hist(eigs[2,:])\n",
    "ax1.set_title('$c_\\lambda =$ '+str(list_lambda[2]))\n",
    "\n",
    "ax2.hist(eigs[3,:])\n",
    "ax2.set_title('$c_\\lambda =$ '+str(list_lambda[3]))\n",
    "\n",
    "ax3.hist(eigs[4,:])\n",
    "ax3.set_title('$c_\\lambda =$ '+str(list_lambda[4]))\n",
    "\n",
    "plt.show()"
   ]
  },
  {
   "cell_type": "markdown",
   "metadata": {},
   "source": [
    "# Figure C2 : Case N >> T"
   ]
  },
  {
   "cell_type": "markdown",
   "metadata": {},
   "source": [
    "This code plots the MSE versus T for DLS and DProj for $N \\gg T$. Here $N = 200$, T goes from 10 to 50 and data is generated according to the Dynamic TranSync model. Graphs are generated as $\\mathcal{G}(n, p(t))$ with $p(t)$ chosen randomly between $\\frac{1}{n}$ and $\\frac{\\log(n)}{n}$. The results are averaged over the grid $\\mathcal{T}$ as well as 20 Monte Carlo runs."
   ]
  },
  {
   "cell_type": "code",
   "execution_count": null,
   "metadata": {},
   "outputs": [],
   "source": [
    "from transync import transync_analysis"
   ]
  },
  {
   "cell_type": "code",
   "execution_count": null,
   "metadata": {},
   "outputs": [],
   "source": [
    "N = 200 # Number of items\n",
    "list_T = [10,20,30,40,50] # Number of time points\n",
    "B = 20 # Number of Monte Carlo runs\n",
    "\n",
    "# Connectivity of graphs is chosen randomly between p1/N and p2/N \n",
    "p1 = 1\n",
    "p2 = np.log(N)\n",
    "\n",
    "# Estimation method to use\n",
    "ls_flag = False # Naive Least Squares method\n",
    "dls_flag = True # Dynamic Least Squares method\n",
    "dproj_flag = True # Dynamic Projection method"
   ]
  },
  {
   "cell_type": "markdown",
   "metadata": {},
   "source": [
    "We call the transync_analysis function for different values of $\\alpha$, where $S_T = \\frac{1}{T^\\alpha}$ and plot the results."
   ]
  },
  {
   "cell_type": "markdown",
   "metadata": {},
   "source": [
    "## $S_T = \\frac{1}{T}$"
   ]
  },
  {
   "cell_type": "code",
   "execution_count": null,
   "metadata": {},
   "outputs": [],
   "source": [
    "# Analysis with alpha = 1\n",
    "MSE_ls_1,MSE_dls_1,MSE_dproj_1,data_ls_1,data_dls_1,data_dproj_1 = transync_analysis(N,list_T,B,1,p1,p2,ls_flag,dls_flag,dproj_flag)\n",
    "\n",
    "# Plot\n",
    "fig, ax = plt.subplots(1, figsize=(8, 6))\n",
    "\n",
    "# MSE\n",
    "ax.plot(list_T, MSE_dls_1,marker='s',label = \"DLS\",color='blue')\n",
    "ax.plot(list_T, MSE_dproj_1,marker='s',label = \"DProj\",color='red')\n",
    "\n",
    "# Boxplot\n",
    "box_dls_1 = ax.boxplot(data_dls_1,showfliers=False,positions=[t for t in list_T],widths = 1)\n",
    "box_dproj_1 = ax.boxplot(data_dproj_1,showfliers=False,positions=[t+2 for t in list_T],widths = 1)\n",
    "\n",
    "for _, line_list in box_dls_1.items(): \n",
    "    for line in line_list: \n",
    "        line.set_color('blue') \n",
    "        \n",
    "for _, line_list in box_dproj_1.items(): \n",
    "    for line in line_list: \n",
    "        line.set_color('red') \n",
    "\n",
    "ax.set_xticks(list_T)\n",
    "ax.set_yscale('log')\n",
    "ax.set_xlabel('T')\n",
    "ax.set_ylabel('$\\| \\|\\widehat{z} - z^*\\|\\|^2/T$')\n",
    "        \n",
    "# Add a legend, and position it on the lower right (with no box)\n",
    "plt.legend(loc=\"upper right\", frameon=False)\n",
    "plt.title('Mean error over time T, Transync data, $S_T = 1/T$')\n",
    "plt.show()"
   ]
  },
  {
   "cell_type": "markdown",
   "metadata": {},
   "source": [
    "## $S_T = \\frac{1}{\\sqrt{T}}$"
   ]
  },
  {
   "cell_type": "code",
   "execution_count": null,
   "metadata": {},
   "outputs": [],
   "source": [
    "# Analysis with alpha = 0.5\n",
    "MSE_ls_05,MSE_dls_05,MSE_dproj_05,data_ls_05,data_dls_05,data_dproj_05 = transync_analysis(N,list_T,B,0.5,p1,p2,ls_flag,dls_flag,dproj_flag)\n",
    "\n",
    "# Plot\n",
    "fig, ax = plt.subplots(1, figsize=(8, 6))\n",
    "\n",
    "# MSE\n",
    "ax.plot(list_T, MSE_dls_05,marker='s',label = \"DLS\",color='blue')\n",
    "ax.plot(list_T, MSE_dproj_05,marker='s',label = \"DProj\",color='red')\n",
    "\n",
    "# Boxplot\n",
    "box_dls_05 = ax.boxplot(data_dls_05,showfliers=False,positions=[t for t in list_T],widths = 1)\n",
    "box_dproj_05 = ax.boxplot(data_dproj_05,showfliers=False,positions=[t+2 for t in list_T],widths = 1)\n",
    "\n",
    "for _, line_list in box_dls_05.items(): \n",
    "    for line in line_list: \n",
    "        line.set_color('blue') \n",
    "        \n",
    "for _, line_list in box_ddproj_05.items(): \n",
    "    for line in line_list: \n",
    "        line.set_color('red') \n",
    "\n",
    "ax.set_xticks(list_T)\n",
    "ax.set_yscale('log')\n",
    "ax.set_xlabel('T')\n",
    "ax.set_ylabel('$\\| \\|\\widehat{z} - z^*\\|\\|^2/T$')\n",
    "        \n",
    "# Add a legend, and position it on the lower right (with no box)\n",
    "plt.legend(loc=\"upper right\", frameon=False)\n",
    "plt.title('Mean error over time T, Transync data, $S_T = 1/T$')\n",
    "plt.show()"
   ]
  },
  {
   "cell_type": "code",
   "execution_count": null,
   "metadata": {},
   "outputs": [],
   "source": []
  }
 ],
 "metadata": {
  "kernelspec": {
   "display_name": "Python 3",
   "language": "python",
   "name": "python3"
  },
  "language_info": {
   "codemirror_mode": {
    "name": "ipython",
    "version": 3
   },
   "file_extension": ".py",
   "mimetype": "text/x-python",
   "name": "python",
   "nbconvert_exporter": "python",
   "pygments_lexer": "ipython3",
   "version": "3.8.5"
  }
 },
 "nbformat": 4,
 "nbformat_minor": 4
}
