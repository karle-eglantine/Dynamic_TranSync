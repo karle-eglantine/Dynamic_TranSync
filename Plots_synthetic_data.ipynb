{
 "cells": [
  {
   "cell_type": "code",
   "execution_count": null,
   "metadata": {},
   "outputs": [],
   "source": [
    "import os\n",
    "import random\n",
    "import matplotlib\n",
    "import numpy as np\n",
    "import pandas as pd\n",
    "import matplotlib.pyplot as plt\n",
    "import scipy\n",
    "import pickle\n",
    "\n",
    "import sys\n",
    "sys.path.append('modules')"
   ]
  },
  {
   "cell_type": "code",
   "execution_count": null,
   "metadata": {},
   "outputs": [],
   "source": [
    "plt.rcParams.update({'font.size': 16})"
   ]
  },
  {
   "cell_type": "markdown",
   "metadata": {},
   "source": [
    "# Figure 1 : TranSync analysis for different smoothness"
   ]
  },
  {
   "cell_type": "code",
   "execution_count": null,
   "metadata": {},
   "outputs": [],
   "source": [
    "from transync import transync_analysis"
   ]
  },
  {
   "cell_type": "code",
   "execution_count": null,
   "metadata": {},
   "outputs": [],
   "source": [
    "N = 100\n",
    "list_T = [10,30,50,70,100,130,150,170,200]\n",
    "B = 40\n",
    "\n",
    "p1 = 1 # Connectivity of graphs is chosen randomly between p1/N and p2/N \n",
    "p2 = np.log(N)\n",
    "\n",
    "# Estimation method to use\n",
    "ls_flag = False\n",
    "dls_flag = True\n",
    "proj_flag = True"
   ]
  },
  {
   "cell_type": "markdown",
   "metadata": {},
   "source": [
    "We call the transync_analysis function for different values of $\\alpha$, where $S_T = \\frac{1}{T^\\alpha}$."
   ]
  },
  {
   "cell_type": "code",
   "execution_count": null,
   "metadata": {},
   "outputs": [],
   "source": [
    "# alpha = 1\n",
    "MSE_ls_1,MSE_dls_1,MSE_dproj_1,data_ls_1,data_dls_1,data_proj_1 = transync_analysis(N,list_T,B,1,p1,p2,ls_flag,dls_flag,proj_flag)\n",
    "\n",
    "# alpha = 0.5\n",
    "MSE_ls_05,MSE_dls_05,MSE_dproj_05,data_ls_05,data_dls_05,data_proj_05 = transync_analysis(N,list_T,B,0.5,p1,p2,ls_flag,dls_flag,proj_flag)\n",
    "\n",
    "# alpha = 0\n",
    "MSE_ls_0,MSE_dls_0,MSE_dproj_0,data_ls_0,data_dls_0,data_proj_0 = transync_analysis(N,list_T,B,0,p1,p2,ls_flag,dls_flag,proj_flag)\n",
    "\n",
    "# alpha = -0.5\n",
    "MSE_ls_m05,MSE_dls_m05,MSE_dproj_m05,data_ls_m05,data_dls_m05,data_proj_m05 = transync_analysis(N,list_T,B,-0.5,p1,p2,ls_flag,dls_flag,proj_flag)"
   ]
  },
  {
   "cell_type": "markdown",
   "metadata": {},
   "source": [
    "## Plot the errors and boxplot"
   ]
  },
  {
   "cell_type": "code",
   "execution_count": null,
   "metadata": {},
   "outputs": [],
   "source": [
    "# alpha = 1\n",
    "\n",
    "# Initialise the figure and axes.\n",
    "fig, ax = plt.subplots(1, figsize=(8, 6))\n",
    "\n",
    "# MSE\n",
    "ax.plot(list_T, MSE_dls_1,marker='s',label = \"DLS\",color='blue')\n",
    "ax.plot(list_T, MSE_dproj_1,marker='s',label = \"DProj\",color='red')\n",
    "\n",
    "# Boxplot\n",
    "box_dls_1 = ax.boxplot(data_dls_1,showfliers=False,positions=[t for t in list_T],widths = 1)\n",
    "box_proj_1 = ax.boxplot(data_dproj_1,showfliers=False,positions=[t+2 for t in list_T],widths = 1)\n",
    "\n",
    "for _, line_list in box_dls_1.items(): \n",
    "    for line in line_list: \n",
    "        line.set_color('blue') \n",
    "        \n",
    "for _, line_list in box_dproj_1.items(): \n",
    "    for line in line_list: \n",
    "        line.set_color('red') \n",
    "\n",
    "ax.set_xticks([10,30,50,70,100,130,150,170,200])\n",
    "ax.set_yscale('log')\n",
    "ax.set_xlabel('T')\n",
    "ax.set_ylabel('$\\| \\|\\widehat{z} - z^*\\|\\|^2/T$')\n",
    "        \n",
    "# Add a legend, and position it on the lower right (with no box)\n",
    "plt.legend(loc=\"upper right\", frameon=False)\n",
    "plt.title('Mean error over time T, Transync data, $S_T = 1/T$')\n",
    "plt.show()"
   ]
  },
  {
   "cell_type": "code",
   "execution_count": null,
   "metadata": {},
   "outputs": [],
   "source": [
    "# alpha = 0.5\n",
    "\n",
    "# Initialise the figure and axes.\n",
    "fig, ax = plt.subplots(1, figsize=(8, 6))\n",
    "\n",
    "# MSE\n",
    "ax.plot(list_T, MSE_dls_05,marker='s',label = \"DLS\",color='blue')\n",
    "ax.plot(list_T, MSE_dproj_05,marker='s',label = \"DProj\",color='red')\n",
    "\n",
    "# Boxplot\n",
    "box_dls_05 = ax.boxplot(data_dls_05,showfliers=False,positions=[t for t in list_T],widths = 1)\n",
    "box_proj_05 = ax.boxplot(data_dproj_05,showfliers=False,positions=[t+2 for t in list_T],widths = 1)\n",
    "\n",
    "for _, line_list in box_dls_05.items(): \n",
    "    for line in line_list: \n",
    "        line.set_color('blue') \n",
    "        \n",
    "for _, line_list in box_dproj_05.items(): \n",
    "    for line in line_list: \n",
    "        line.set_color('red') \n",
    "\n",
    "ax.set_xticks([10,30,50,70,100,130,150,170,200])\n",
    "ax.set_yscale('log')\n",
    "ax.set_xlabel('T')\n",
    "ax.set_ylabel('$\\| \\|\\widehat{z} - z^*\\|\\|^2/T$')\n",
    "        \n",
    "# Add a legend, and position it on the lower right (with no box)\n",
    "plt.legend(loc=\"upper right\", frameon=False)\n",
    "plt.title('Mean error over time T, Transync data, $S_T = 1/\\sqrt{T}$')\n",
    "plt.show()"
   ]
  },
  {
   "cell_type": "code",
   "execution_count": null,
   "metadata": {},
   "outputs": [],
   "source": [
    "# alpha = 0\n",
    "\n",
    "# Initialise the figure and axes.\n",
    "fig, ax = plt.subplots(1, figsize=(8, 6))\n",
    "\n",
    "# MSE\n",
    "ax.plot(list_T, MSE_dls_0,marker='s',label = \"DLS\",color='blue')\n",
    "ax.plot(list_T, MSE_dproj_0,marker='s',label = \"DProj\",color='red')\n",
    "\n",
    "# Boxplot\n",
    "box_dls_0 = ax.boxplot(data_dls_0,showfliers=False,positions=[t for t in list_T],widths = 1)\n",
    "box_proj_0 = ax.boxplot(data_dproj_0,showfliers=False,positions=[t+2 for t in list_T],widths = 1)\n",
    "\n",
    "for _, line_list in box_dls_0.items(): \n",
    "    for line in line_list: \n",
    "        line.set_color('blue') \n",
    "        \n",
    "for _, line_list in box_dproj_0.items(): \n",
    "    for line in line_list: \n",
    "        line.set_color('red') \n",
    "\n",
    "ax.set_xticks([10,30,50,70,100,130,150,170,200])\n",
    "ax.set_yscale('log')\n",
    "ax.set_xlabel('T')\n",
    "ax.set_ylabel('$\\| \\|\\widehat{z} - z^*\\|\\|^2/T$')\n",
    "        \n",
    "# Add a legend, and position it on the lower right (with no box)\n",
    "plt.legend(loc=\"upper right\", frameon=False)\n",
    "plt.title('Mean error over time T, Transync data, $S_T = 1$')\n",
    "plt.show()"
   ]
  },
  {
   "cell_type": "code",
   "execution_count": null,
   "metadata": {},
   "outputs": [],
   "source": [
    "# alpha = -0.5\n",
    "\n",
    "# Initialise the figure and axes.\n",
    "fig, ax = plt.subplots(1, figsize=(8, 6))\n",
    "\n",
    "# MSE\n",
    "ax.plot(list_T, MSE_dls_m05,marker='s',label = \"DLS\",color='blue')\n",
    "ax.plot(list_T, MSE_dproj_m05,marker='s',label = \"DProj\",color='red')\n",
    "\n",
    "# Boxplot\n",
    "box_dls_m05 = ax.boxplot(data_dls_m05,showfliers=False,positions=[t for t in list_T],widths = 1)\n",
    "box_proj_m05 = ax.boxplot(data_dproj_m05,showfliers=False,positions=[t+2 for t in list_T],widths = 1)\n",
    "\n",
    "for _, line_list in box_dls_m05.items(): \n",
    "    for line in line_list: \n",
    "        line.set_color('blue') \n",
    "        \n",
    "for _, line_list in box_dproj_m05.items(): \n",
    "    for line in line_list: \n",
    "        line.set_color('red') \n",
    "\n",
    "ax.set_xticks([10,30,50,70,100,130,150,170,200])\n",
    "ax.set_yscale('log')\n",
    "ax.set_xlabel('T')\n",
    "ax.set_ylabel('$\\| \\|\\widehat{z} - z^*\\|\\|^2/T$')\n",
    "        \n",
    "# Add a legend, and position it on the lower right (with no box)\n",
    "plt.legend(loc=\"upper right\", frameon=False)\n",
    "plt.title('Mean error over time T, Transync data, $S_T = \\sqrt{T}$')\n",
    "plt.show()"
   ]
  },
  {
   "cell_type": "markdown",
   "metadata": {},
   "source": [
    "# Figure 2 : Analysis on BTL data for different smoothness"
   ]
  },
  {
   "cell_type": "code",
   "execution_count": null,
   "metadata": {},
   "outputs": [],
   "source": [
    "from btl_analysis import btl"
   ]
  },
  {
   "cell_type": "code",
   "execution_count": null,
   "metadata": {},
   "outputs": [],
   "source": [
    "N = 100\n",
    "list_T = [10,30,50,70,100,130,150,170,200]\n",
    "B = 40\n",
    "L = 10\n",
    "c_delta = 0.5\n",
    "\n",
    "p1 = 1 # Connectivity of graphs is chosen randomly between p1/N and p2/N \n",
    "p2 = np.log(N)\n",
    "\n",
    "# Estimation method to use\n",
    "ls_flag = True\n",
    "proj_flag = True\n",
    "drc_flag = True\n",
    "mle_flag = True"
   ]
  },
  {
   "cell_type": "code",
   "execution_count": null,
   "metadata": {},
   "outputs": [],
   "source": [
    "# alpha = 1\n",
    "MSE_ls_1,MSE_dproj_1,MSE_drc_1,MSE_mle_1 = btl(N,list_T,B,1,p1,p2,L,c_delta,ls_flag,proj_flag,drc_flag,mle_flag)\n",
    "\n",
    "# alpha = 0.5\n",
    "MSE_ls_05,MSE_dproj_05,MSE_drc_05,MSE_mle_05 = btl(N,list_T,B,0.5,p1,p2,L,c_delta,ls_flag,proj_flag,drc_flag,mle_flag)"
   ]
  },
  {
   "cell_type": "markdown",
   "metadata": {},
   "source": [
    "## Plots of errors"
   ]
  },
  {
   "cell_type": "code",
   "execution_count": null,
   "metadata": {},
   "outputs": [],
   "source": [
    "# alpha = 1\n",
    "\n",
    "# Initialise the figure and axes.\n",
    "fig, ax = plt.subplots(1, figsize=(8, 6))\n",
    "\n",
    "ax.plot(list_T, MSE_ls_1,marker='s',label = \"DLS\",color='blue')\n",
    "ax.plot(list_T, MSE_dproj_1,marker='s',label = \"DProj\",color='red')\n",
    "ax.plot(list_T, MSE_drc_1,marker='s',label = \"DRC\",color='orange')\n",
    "ax.plot(list_T, MSE_mle_1,marker='s',label = \"MLE\",color='green')\n",
    "\n",
    "ax.set_xticks(list_T)\n",
    "ax.set_yscale('log')\n",
    "ax.set_xlabel('T')\n",
    "ax.set_ylabel('$\\| \\|\\widehat{z} - z^*\\|\\|^2/T$')\n",
    "        \n",
    "# Add a legend, and position it on the lower right (with no box)\n",
    "plt.legend(loc=\"upper right\", frameon=False)\n",
    "plt.title('Mean error over time T, BTL data, $S_T = 1/T$')\n",
    "plt.show()\n"
   ]
  },
  {
   "cell_type": "code",
   "execution_count": null,
   "metadata": {},
   "outputs": [],
   "source": [
    "# alpha = 0.5\n",
    "\n",
    "# Initialise the figure and axes.\n",
    "fig, ax = plt.subplots(1, figsize=(8, 6))\n",
    "\n",
    "ax.plot(list_T, MSE_ls_05,marker='s',label = \"DLS\",color='blue')\n",
    "ax.plot(list_T, MSE_dproj_05,marker='s',label = \"DProj\",color='red')\n",
    "ax.plot(list_T, MSE_drc_05,marker='s',label = \"DRC\",color='orange')\n",
    "ax.plot(list_T, MSE_mle_05,marker='s',label = \"MLE\",color='green')\n",
    "\n",
    "ax.set_xticks(list_T)\n",
    "ax.set_yscale('log')\n",
    "ax.set_xlabel('T')\n",
    "ax.set_ylabel('$\\| \\|\\widehat{z} - z^*\\|\\|^2/T$')\n",
    "        \n",
    "# Add a legend, and position it on the lower right (with no box)\n",
    "plt.legend(loc=\"upper right\", frameon=False)\n",
    "plt.title('Mean error over time T, BTL data, $S_T = 1/\\sqrt{T}$')\n",
    "plt.show()\n"
   ]
  },
  {
   "cell_type": "markdown",
   "metadata": {},
   "source": [
    "# Figure 3 : Comparison of TranSync analysis with naive LS"
   ]
  },
  {
   "cell_type": "code",
   "execution_count": null,
   "metadata": {},
   "outputs": [],
   "source": [
    "from transync import transync_analysis"
   ]
  },
  {
   "cell_type": "code",
   "execution_count": null,
   "metadata": {},
   "outputs": [],
   "source": [
    "N = 100\n",
    "list_T = [10,30,50,70,100,130,150,170,200]\n",
    "B = 40\n",
    "\n",
    "p1 = np.log(N) # Connectivity of graphs is chosen randomly between p1/N and p2/N : here we choose a connectivity of log(N)/N for all graphs\n",
    "p2 = np.log(N)\n",
    "\n",
    "# Estimation method to use\n",
    "ls_flag = True\n",
    "dls_flag = True\n",
    "proj_flag = True"
   ]
  },
  {
   "cell_type": "code",
   "execution_count": null,
   "metadata": {},
   "outputs": [],
   "source": [
    "# alpha = 1\n",
    "MSE_ls_1,MSE_dls_1,MSE_dproj_1,_,_,_ = transync_analysis(N,list_T,B,1,p1,p2,ls_flag,dls_flag,proj_flag)\n",
    "\n",
    "# alpha = -0.5\n",
    "MSE_ls_m05,MSE_dls_m05,MSE_dproj_m05,_,_,_ = transync_analysis(N,list_T,B,-0.5,p1,p2,ls_flag,dls_flag,proj_flag)"
   ]
  },
  {
   "cell_type": "markdown",
   "metadata": {},
   "source": [
    "## Plots of errors"
   ]
  },
  {
   "cell_type": "code",
   "execution_count": null,
   "metadata": {},
   "outputs": [],
   "source": [
    "# alpha = 1\n",
    "\n",
    "# Initialise the figure and axes.\n",
    "fig, ax = plt.subplots(1, figsize=(8, 6))\n",
    "\n",
    "ax.plot(list_T, MSE_ls_1,marker='s',label = \"LS\")\n",
    "ax.plot(list_T, MSE_dls_1,marker='s',label = \"DLS\")\n",
    "ax.plot(list_T, MSE_dproj_1,marker='s',label = \"DProj\")\n",
    "\n",
    "ax.set_xticks(list_T)\n",
    "ax.set_yscale('log')\n",
    "ax.set_xlabel('T')\n",
    "ax.set_ylabel('$\\| \\|\\widehat{z} - z^*\\|\\|^2/T$')\n",
    "        \n",
    "# Add a legend, and position it on the lower right (with no box)\n",
    "plt.legend(loc=\"upper right\", frameon=False)\n",
    "plt.title('Mean error over time T, $S_T = 1/T$')\n",
    "plt.show()\n"
   ]
  },
  {
   "cell_type": "code",
   "execution_count": null,
   "metadata": {},
   "outputs": [],
   "source": [
    "# alpha = -0.5\n",
    "\n",
    "# Initialise the figure and axes.\n",
    "fig, ax = plt.subplots(1, figsize=(8, 6))\n",
    "\n",
    "ax.plot(list_T, MSE_ls_m05,marker='s',label = \"LS\")\n",
    "ax.plot(list_T, MSE_dls_m05,marker='s',label = \"DLS\")\n",
    "ax.plot(list_T, MSE_dproj_m05,marker='s',label = \"DProj\")\n",
    "\n",
    "ax.set_xticks(list_T)\n",
    "ax.set_yscale('log')\n",
    "ax.set_xlabel('T')\n",
    "ax.set_ylabel('$\\| \\|\\widehat{z} - z^*\\|\\|^2/T$')\n",
    "        \n",
    "# Add a legend, and position it on the lower right (with no box)\n",
    "plt.legend(loc=\"upper right\", frameon=False)\n",
    "plt.title('Mean error over time T, $S_T = \\sqrt{T}$')\n",
    "plt.show()\n"
   ]
  },
  {
   "cell_type": "markdown",
   "metadata": {},
   "source": [
    "# Figure 4 : TranSync analysis for different connectivity parameters"
   ]
  },
  {
   "cell_type": "code",
   "execution_count": null,
   "metadata": {},
   "outputs": [],
   "source": [
    "from transync import transync_analysis"
   ]
  },
  {
   "cell_type": "code",
   "execution_count": null,
   "metadata": {},
   "outputs": [],
   "source": [
    "N = 100\n",
    "list_T = [10,30,50,70,100,130,150,170,200]\n",
    "B = 20\n",
    "\n",
    "alpha = 1\n",
    "\n",
    "# Estimation method to use\n",
    "ls_flag = False\n",
    "dls_flag = True\n",
    "proj_flag = True"
   ]
  },
  {
   "cell_type": "code",
   "execution_count": null,
   "metadata": {},
   "outputs": [],
   "source": [
    "# p = 1/N\n",
    "MSE_ls_1,MSE_dls_1,MSE_dproj_1,_,_,_ = transync_analysis(N,list_T,B,alpha,1,1,ls_flag,dls_flag,proj_flag)\n",
    "\n",
    "# p = log(N)/N\n",
    "MSE_ls_log,MSE_dls_log,MSE_dproj_log,_,_,_ = transync_analysis(N,list_T,B,alpha,np.log(N),np.log(N),ls_flag,dls_flag,proj_flag)\n",
    "\n",
    "# p = 1/sqrt(N)\n",
    "MSE_ls_sqrt,MSE_dls_sqrt,MSE_dproj_sqrt,_,_,_ = transync_analysis(N,list_T,B,alpha,np.sqrt(N),np.sqrt(N),ls_flag,dls_flag,proj_flag)"
   ]
  },
  {
   "cell_type": "markdown",
   "metadata": {},
   "source": [
    "## Plots of the error for each method"
   ]
  },
  {
   "cell_type": "code",
   "execution_count": null,
   "metadata": {},
   "outputs": [],
   "source": [
    "# DLS Method\n",
    "\n",
    "# Initialise the figure and axes.\n",
    "fig, ax0 = plt.subplots(1, figsize=(8, 6))\n",
    "\n",
    "# p = 1/n\n",
    "ax0.plot(list_T, MSE_dls_1,marker='s',label = \"$p=1/n$\",color='blue')\n",
    "\n",
    "# p =log(n)/n\n",
    "ax0.plot(list_T, MSE_dls_log,marker='s',label = \"$p=\\log (n)/n$\",color='red')\n",
    "\n",
    "# p = 1/\\sqrt(n)\n",
    "ax0.plot(list_T, MSE_dls_sqrt,marker='s',label = \"$p=1/\\sqrt{n}$\",color='green')\n",
    "\n",
    "ax0.set_xticks([10,30,50,70,100,130,150,170,200])\n",
    "ax0.set_yscale('log')\n",
    "ax0.set_xlabel('T')\n",
    "ax0.set_ylabel('$\\| \\|\\widehat{z} - z^*\\|\\|^2/T$')\n",
    "\n",
    "# Add a legend, and position it on the lower right (with no box)\n",
    "ax0.legend(loc=\"upper right\", frameon=False)\n",
    "plt.title('Mean error over time T with $S_T = 1/T$')\n",
    "plt.show()\n"
   ]
  },
  {
   "cell_type": "code",
   "execution_count": null,
   "metadata": {},
   "outputs": [],
   "source": [
    "# Initialise the figure and axes.\n",
    "fig, ax1 = plt.subplots(1, figsize=(8, 6))\n",
    "\n",
    "# p = 1/n\n",
    "ax1.plot(list_T, MSE_dproj_1,marker='s',label = \"$p=1/n$\",color='blue')\n",
    "\n",
    "# p =log(n)/n\n",
    "ax1.plot(list_T, MSE_dproj_log,marker='s',label = \"$p=\\log (n)/n$\",color='red')\n",
    "\n",
    "# p = 1/\\sqrt(n)\n",
    "ax1.plot(list_T, MSE_dproj_sqrt,marker='s',label = \"$p=1/\\sqrt{n}$\",color='green')\n",
    "\n",
    "ax1.set_xticks([10,30,50,70,100,130,150,170,200])\n",
    "ax1.set_yscale('log')\n",
    "ax1.set_xlabel('T')\n",
    "ax1.set_ylabel('$\\| \\|\\widehat{z} - z^*\\|\\|^2/T$')\n",
    "\n",
    "# Add a legend, and position it on the lower right (with no box)\n",
    "ax1.legend(loc=\"upper right\", frameon=False)\n",
    "plt.title('Mean error over time T with $S_T = 1/T$')\n",
    "plt.show()\n"
   ]
  },
  {
   "cell_type": "markdown",
   "metadata": {},
   "source": [
    "# Figure 5"
   ]
  },
  {
   "cell_type": "code",
   "execution_count": null,
   "metadata": {},
   "outputs": [],
   "source": [
    "from performance_dls_vs_lambda import perf_dls\n",
    "from performance_dproj_vs_tau import perf_dproj"
   ]
  },
  {
   "cell_type": "code",
   "execution_count": null,
   "metadata": {},
   "outputs": [],
   "source": [
    "N = 100\n",
    "T = 200\n",
    "B = 20\n",
    "\n",
    "alpha = 1\n",
    "p1 = np.log(N)\n",
    "p2 = np.log(N)\n",
    "\n",
    "# List of parameters\n",
    "list_tau = [1e-4,1e-3,1e-2,1e-1,1]\n",
    "list_lambda = [10**i for i in range(0,10)]\n"
   ]
  },
  {
   "cell_type": "code",
   "execution_count": null,
   "metadata": {},
   "outputs": [],
   "source": [
    "MSE_dls,data_dls = perf_dls(N,T,B,alpha,p1,p2,list_lambda)\n",
    "MSE_dproj,data_dproj = perf_dproj(N,T,B,alpha,p1,p2,list_tau)"
   ]
  },
  {
   "cell_type": "markdown",
   "metadata": {},
   "source": [
    "# Plots of performance against parameters"
   ]
  },
  {
   "cell_type": "code",
   "execution_count": null,
   "metadata": {},
   "outputs": [],
   "source": [
    "# Performance of DLS\n",
    "\n",
    "# Initialise the figure and axes.\n",
    "fig, ax = plt.subplots(1, figsize=(8, 6))\n",
    "\n",
    "ax.plot(list_lambda, MSE_dls ,marker='s',label = \"DLS\",color='blue')\n",
    "ax.plot((T/S_T)**(2/3),0,marker = 'o',color='red',clip_on=False) # Value of parameter derived theoretically\n",
    "\n",
    "\n",
    "ax.set_xticks(list_tau)\n",
    "ax.set_xscale('log')\n",
    "ax.set_xlabel(r'$\\lambda$')\n",
    "ax.set_ylabel('$ \\|\\widehat{z} - z^*\\|^2/T$')\n",
    "ax.set_ylim(0,5.7)\n",
    "        \n",
    "# Add a legend, and position it on the lower right (with no box)\n",
    "plt.legend(loc=\"upper right\", frameon=False)\n",
    "plt.title('Performance against $\\lambda$ - $S_T = 1/T$')\n",
    "plt.show()\n"
   ]
  },
  {
   "cell_type": "code",
   "execution_count": null,
   "metadata": {},
   "outputs": [],
   "source": [
    "# Performance of Dproj\n",
    "\n",
    "# Initialise the figure and axes.\n",
    "fig, ax = plt.subplots(1, figsize=(8, 6))\n",
    "\n",
    "ax.plot(list_tau, MSE_dproj,marker='s',label = \"DProj\",color='blue')\n",
    "ax.plot((S_T/T)**(2/3),0,marker = 'o',color='red',clip_on = False) # Value of parameter derived theoretically\n",
    "\n",
    "\n",
    "ax.set_xticks(list_tau)\n",
    "ax.set_xscale('log')\n",
    "ax.set_xlabel(r'$\\tau$')\n",
    "ax.set_ylabel('$\\|\\widehat{z} - z^*\\|^2/T$')\n",
    "ax.set_ylim(0,2.6)\n",
    "        \n",
    "# Add a legend, and position it on the lower right (with no box)\n",
    "plt.legend(loc=\"best\", frameon=False)\n",
    "plt.title(r'Performance against $ \\tau $ - $S_T = 1/T$')\n",
    "plt.show()\n"
   ]
  },
  {
   "cell_type": "markdown",
   "metadata": {},
   "source": [
    "# Figure C1 : eigenvalues of $L$ and $L(\\lambda)$"
   ]
  },
  {
   "cell_type": "code",
   "execution_count": null,
   "metadata": {},
   "outputs": [],
   "source": [
    "from eigenvalues_L_lam import eigs_L_lam"
   ]
  },
  {
   "cell_type": "code",
   "execution_count": null,
   "metadata": {},
   "outputs": [],
   "source": [
    "N = 100\n",
    "T = 200\n",
    "\n",
    "alpha = 1\n",
    "p1 = np.log(N)\n",
    "p2 = np.log(N)\n",
    "\n",
    "# List of parameters\n",
    "list_lambda = [0,1e-2,1e-1,1,10]\n"
   ]
  },
  {
   "cell_type": "code",
   "execution_count": null,
   "metadata": {},
   "outputs": [],
   "source": [
    "eigs = eigs_L_lam(N,T,alpha,p1,p2,list_lambda)"
   ]
  },
  {
   "cell_type": "code",
   "execution_count": null,
   "metadata": {},
   "outputs": [],
   "source": [
    "fig, ax = plt.subplots(figsize=(8,6))\n",
    "\n",
    "ax.hist(eigs[0,:],density=True)\n",
    "ax.set_title('Eigenvalues of L')\n",
    "ax.set_ylabel('Frequency')\n",
    "\n",
    "plt.show()"
   ]
  },
  {
   "cell_type": "code",
   "execution_count": null,
   "metadata": {},
   "outputs": [],
   "source": [
    "fig, ((ax0, ax1), (ax2, ax3)) = plt.subplots(nrows=2, ncols=2,figsize=(10,10))\n",
    "\n",
    "ax0.hist(eigs[1,:])\n",
    "ax0.set_title('$c_\\lambda =$ '+str(list_lambda[1]))\n",
    "\n",
    "ax1.hist(eigs[2,:])\n",
    "ax1.set_title('$c_\\lambda =$ '+str(list_lambda[2]))\n",
    "\n",
    "ax2.hist(eigs[3,:])\n",
    "ax2.set_title('$c_\\lambda =$ '+str(list_lambda[3]))\n",
    "\n",
    "ax3.hist(eigs[4,:])\n",
    "ax3.set_title('$c_\\lambda =$ '+str(list_lambda[4]))\n",
    "\n",
    "plt.show()"
   ]
  },
  {
   "cell_type": "markdown",
   "metadata": {},
   "source": [
    "# Figure C2 : Case N >> T"
   ]
  },
  {
   "cell_type": "code",
   "execution_count": null,
   "metadata": {},
   "outputs": [],
   "source": [
    "from transync import transync_analysis"
   ]
  },
  {
   "cell_type": "code",
   "execution_count": null,
   "metadata": {},
   "outputs": [],
   "source": [
    "N = 200\n",
    "list_T = [10,20,30,40,50]\n",
    "B = 20\n",
    "\n",
    "p1 = 1 # Connectivity of graphs is chosen randomly between p1/N and p2/N \n",
    "p2 = np.log(N)\n",
    "\n",
    "# Estimation method to use\n",
    "ls_flag = False\n",
    "dls_flag = True\n",
    "proj_flag = True"
   ]
  },
  {
   "cell_type": "code",
   "execution_count": null,
   "metadata": {},
   "outputs": [],
   "source": [
    "# alpha = 1\n",
    "MSE_ls_1,MSE_dls_1,MSE_dproj_1,data_ls_1,data_dls_1,data_proj_1 = transync_analysis(N,list_T,B,1,p1,p2,ls_flag,dls_flag,proj_flag)\n",
    "\n",
    "# alpha = 0.5\n",
    "MSE_ls_05,MSE_dls_05,MSE_dproj_05,data_ls_05,data_dls_05,data_proj_05 = transync_analysis(N,list_T,B,0.5,p1,p2,ls_flag,dls_flag,proj_flag)\n"
   ]
  },
  {
   "cell_type": "markdown",
   "metadata": {},
   "source": [
    "## Plot the errors"
   ]
  },
  {
   "cell_type": "code",
   "execution_count": null,
   "metadata": {},
   "outputs": [],
   "source": [
    "# alpha = 1\n",
    "\n",
    "# Initialise the figure and axes.\n",
    "fig, ax = plt.subplots(1, figsize=(8, 6))\n",
    "\n",
    "# MSE\n",
    "ax.plot(list_T, MSE_dls_1,marker='s',label = \"DLS\",color='blue')\n",
    "ax.plot(list_T, MSE_dproj_1,marker='s',label = \"DProj\",color='red')\n",
    "\n",
    "# Boxplot\n",
    "box_dls_1 = ax.boxplot(data_dls_1,showfliers=False,positions=[t for t in list_T],widths = 1)\n",
    "box_proj_1 = ax.boxplot(data_dproj_1,showfliers=False,positions=[t+2 for t in list_T],widths = 1)\n",
    "\n",
    "for _, line_list in box_dls_1.items(): \n",
    "    for line in line_list: \n",
    "        line.set_color('blue') \n",
    "        \n",
    "for _, line_list in box_dproj_1.items(): \n",
    "    for line in line_list: \n",
    "        line.set_color('red') \n",
    "\n",
    "ax.set_xticks(list_T)\n",
    "ax.set_yscale('log')\n",
    "ax.set_xlabel('T')\n",
    "ax.set_ylabel('$\\| \\|\\widehat{z} - z^*\\|\\|^2/T$')\n",
    "        \n",
    "# Add a legend, and position it on the lower right (with no box)\n",
    "plt.legend(loc=\"upper right\", frameon=False)\n",
    "plt.title('Mean error over time T, Transync data, $S_T = 1/T$')\n",
    "plt.show()"
   ]
  },
  {
   "cell_type": "code",
   "execution_count": null,
   "metadata": {},
   "outputs": [],
   "source": [
    "# alpha = 0.5\n",
    "\n",
    "# Initialise the figure and axes.\n",
    "fig, ax = plt.subplots(1, figsize=(8, 6))\n",
    "\n",
    "# MSE\n",
    "ax.plot(list_T, MSE_dls_05,marker='s',label = \"DLS\",color='blue')\n",
    "ax.plot(list_T, MSE_dproj_05,marker='s',label = \"DProj\",color='red')\n",
    "\n",
    "# Boxplot\n",
    "box_dls_05 = ax.boxplot(data_dls_05,showfliers=False,positions=[t for t in list_T],widths = 1)\n",
    "box_proj_05 = ax.boxplot(data_dproj_05,showfliers=False,positions=[t+2 for t in list_T],widths = 1)\n",
    "\n",
    "for _, line_list in box_dls_05.items(): \n",
    "    for line in line_list: \n",
    "        line.set_color('blue') \n",
    "        \n",
    "for _, line_list in box_dproj_05.items(): \n",
    "    for line in line_list: \n",
    "        line.set_color('red') \n",
    "\n",
    "ax.set_xticks(list_T)\n",
    "ax.set_yscale('log')\n",
    "ax.set_xlabel('T')\n",
    "ax.set_ylabel('$\\| \\|\\widehat{z} - z^*\\|\\|^2/T$')\n",
    "        \n",
    "# Add a legend, and position it on the lower right (with no box)\n",
    "plt.legend(loc=\"upper right\", frameon=False)\n",
    "plt.title('Mean error over time T, Transync data, $S_T = 1/T$')\n",
    "plt.show()"
   ]
  },
  {
   "cell_type": "code",
   "execution_count": null,
   "metadata": {},
   "outputs": [],
   "source": []
  }
 ],
 "metadata": {
  "kernelspec": {
   "display_name": "Python 3",
   "language": "python",
   "name": "python3"
  },
  "language_info": {
   "codemirror_mode": {
    "name": "ipython",
    "version": 3
   },
   "file_extension": ".py",
   "mimetype": "text/x-python",
   "name": "python",
   "nbconvert_exporter": "python",
   "pygments_lexer": "ipython3",
   "version": "3.8.5"
  }
 },
 "nbformat": 4,
 "nbformat_minor": 4
}
